{
 "cells": [
  {
   "cell_type": "code",
   "execution_count": 1,
   "id": "32bca746",
   "metadata": {},
   "outputs": [],
   "source": [
    "import pandas as pd\n",
    "import numpy as np\n",
    "\n",
    "np.random.seed(42)\n",
    "n_customers = 1000\n",
    "\n",
    "df = pd.DataFrame({\n",
    "    'customer_id': np.arange(1, n_customers + 1),\n",
    "    'signup_days_ago': np.random.randint(30, 1000, size=n_customers),\n",
    "    'last_active_days_ago': np.random.randint(0, 300, size=n_customers),\n",
    "    'num_logins_last_month': np.random.poisson(5, size=n_customers),\n",
    "    'avg_session_length': np.round(np.random.normal(15, 5, size=n_customers), 2),\n",
    "    'num_support_tickets': np.random.poisson(0.5, size=n_customers),\n",
    "    'is_premium': np.random.choice([0, 1], size=n_customers, p=[0.7, 0.3]),\n",
    "    'churned': np.random.choice([0, 1], size=n_customers, p=[0.8, 0.2])\n",
    "})\n",
    "\n",
    "df.to_csv(\"../data/user_activity.csv\", index=False)"
   ]
  }
 ],
 "metadata": {
  "kernelspec": {
   "display_name": "venv",
   "language": "python",
   "name": "python3"
  },
  "language_info": {
   "codemirror_mode": {
    "name": "ipython",
    "version": 3
   },
   "file_extension": ".py",
   "mimetype": "text/x-python",
   "name": "python",
   "nbconvert_exporter": "python",
   "pygments_lexer": "ipython3",
   "version": "3.12.4"
  }
 },
 "nbformat": 4,
 "nbformat_minor": 5
}
