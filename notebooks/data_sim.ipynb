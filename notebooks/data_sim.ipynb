{
 "cells": [
  {
   "cell_type": "code",
   "execution_count": 1,
   "id": "32bca746",
   "metadata": {},
   "outputs": [],
   "source": [
    "import pandas as pd\n",
    "import numpy as np\n",
    "\n",
    "np.random.seed(42)\n",
    "n_customers = 1000\n",
    "\n",
    "# Scenario 1: Generate a simulated training dataset with moderate churn rate (< 20%)\n",
    "df1 = pd.DataFrame({\n",
    "    'customer_id': np.arange(1, n_customers + 1),\n",
    "    'signup_days_ago': np.random.randint(30, 1000, size=n_customers),\n",
    "    'last_active_days_ago': np.random.randint(0, 300, size=n_customers),\n",
    "    'num_logins_last_month': np.random.poisson(5, size=n_customers),\n",
    "    'avg_session_length': np.round(np.random.normal(15, 5, size=n_customers), 2),\n",
    "    'num_support_tickets': np.random.poisson(0.5, size=n_customers),\n",
    "    'is_premium': np.random.choice([0, 1], size=n_customers, p=[0.7, 0.3]),\n",
    "    'churned': np.random.choice([0, 1], size=n_customers, p=[0.8, 0.2])\n",
    "})\n",
    "\n",
    "df1.to_csv(\"../data/user_activity.csv\", index=False)\n",
    "\n",
    "# Scenario 2: Generate a simulated training dataset with low churn rate (< 10%)\n",
    "df2 = pd.DataFrame({\n",
    "    'customer_id': np.arange(1, n_customers + 1),\n",
    "    'signup_days_ago': np.random.randint(30, 1000, size=n_customers),\n",
    "    'last_active_days_ago': np.random.randint(0, 300, size=n_customers),\n",
    "    'num_logins_last_month': np.random.poisson(5, size=n_customers),\n",
    "    'avg_session_length': np.round(np.random.normal(15, 5, size=n_customers), 2),\n",
    "    'num_support_tickets': np.random.poisson(0.5, size=n_customers),\n",
    "    'is_premium': np.random.choice([0, 1], size=n_customers, p=[0.7, 0.3]),\n",
    "    'churned': np.random.choice([0, 1], size=n_customers, p=[0.91, 0.09])  # 9% churn\n",
    "})\n",
    "\n",
    "df2.to_csv(\"../data/user_activity_lowchurn.csv\", index=False)\n",
    "\n",
    "# Scenario 3: Generate a simulated training dataset with rare churn rate (< 5%)\n",
    "df3 = pd.DataFrame({\n",
    "    'customer_id': np.arange(1, n_customers + 1),\n",
    "    'signup_days_ago': np.random.randint(30, 1000, size=n_customers),\n",
    "    'last_active_days_ago': np.random.randint(0, 300, size=n_customers),\n",
    "    'num_logins_last_month': np.random.poisson(5, size=n_customers),\n",
    "    'avg_session_length': np.round(np.random.normal(15, 5, size=n_customers), 2),\n",
    "    'num_support_tickets': np.random.poisson(0.5, size=n_customers),\n",
    "    'is_premium': np.random.choice([0, 1], size=n_customers, p=[0.7, 0.3]),\n",
    "    'churned': np.random.choice([0, 1], size=n_customers, p=[0.95, 0.05])  # 5% churn\n",
    "})\n",
    "\n",
    "df3.to_csv(\"../data/user_activity_rarechurn.csv\", index=False)"
   ]
  }
 ],
 "metadata": {
  "kernelspec": {
   "display_name": "venv",
   "language": "python",
   "name": "python3"
  },
  "language_info": {
   "codemirror_mode": {
    "name": "ipython",
    "version": 3
   },
   "file_extension": ".py",
   "mimetype": "text/x-python",
   "name": "python",
   "nbconvert_exporter": "python",
   "pygments_lexer": "ipython3",
   "version": "3.12.4"
  }
 },
 "nbformat": 4,
 "nbformat_minor": 5
}
